{
 "cells": [
  {
   "cell_type": "code",
   "execution_count": 1,
   "metadata": {},
   "outputs": [],
   "source": [
    "import torch \n",
    "x = torch.arange(-10, 10).float() / 10\n",
    "x.unsqueeze_(1)\n",
    "y = x ** 3"
   ]
  },
  {
   "cell_type": "code",
   "execution_count": 9,
   "metadata": {},
   "outputs": [],
   "source": [
    "from src.ptf.trainer import _BaseTrainer\n",
    "from src.ptf.model import _BaseModel\n",
    "import torch.nn as nn\n",
    "from torch.utils.data import TensorDataset\n",
    "from torch.optim import SGD\n",
    "\n",
    "class Recon(_BaseModel):\n",
    "    def compute_loss(self, network, batch):\n",
    "        x, y = batch\n",
    "        out = network(x)\n",
    "        return nn.MSELoss()(out, y)\n",
    "\n",
    "dataset = TensorDataset(x, y)\n",
    "network = nn.Sequential(\n",
    "    nn.Linear(1, 8),\n",
    "    nn.ReLU(),\n",
    "    nn.Linear(8, 8),\n",
    "    nn.ReLU(),\n",
    "    nn.Linear(8, 1)\n",
    ")\n",
    "model = Recon()\n",
    "optimizer = SGD(network.parameters(), lr = 0.01)\n",
    "\n",
    "trainer = _BaseTrainer(\n",
    "    hparams=dict(\n",
    "        epoch_duration = 40,\n",
    "        batch_size = 4\n",
    "    ),\n",
    "    modules=dict(\n",
    "        dataset=dataset,\n",
    "        network=network,\n",
    "        model=model,\n",
    "        optimizer=optimizer\n",
    "    )\n",
    ")"
   ]
  },
  {
   "cell_type": "code",
   "execution_count": 3,
   "metadata": {},
   "outputs": [
    {
     "data": {
      "text/plain": [
       "(20, 5)"
      ]
     },
     "execution_count": 3,
     "metadata": {},
     "output_type": "execute_result"
    }
   ],
   "source": [
    "len(dataset), trainer.epoch_length"
   ]
  },
  {
   "cell_type": "code",
   "execution_count": 11,
   "metadata": {},
   "outputs": [],
   "source": [
    "trainer.loop()"
   ]
  },
  {
   "cell_type": "code",
   "execution_count": 12,
   "metadata": {},
   "outputs": [
    {
     "data": {
      "text/plain": [
       "tensor(0.8949, grad_fn=<SumBackward0>)"
      ]
     },
     "execution_count": 12,
     "metadata": {},
     "output_type": "execute_result"
    }
   ],
   "source": [
    "((network(x) - y) ** 2).sum()"
   ]
  }
 ],
 "metadata": {
  "kernelspec": {
   "display_name": "PyTorchTrainer",
   "language": "python",
   "name": "python3"
  },
  "language_info": {
   "codemirror_mode": {
    "name": "ipython",
    "version": 3
   },
   "file_extension": ".py",
   "mimetype": "text/x-python",
   "name": "python",
   "nbconvert_exporter": "python",
   "pygments_lexer": "ipython3",
   "version": "3.10.13"
  }
 },
 "nbformat": 4,
 "nbformat_minor": 2
}
