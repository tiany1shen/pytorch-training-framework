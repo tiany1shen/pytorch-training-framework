{
 "cells": [
  {
   "cell_type": "code",
   "execution_count": 69,
   "metadata": {},
   "outputs": [],
   "source": [
    "import torch \n",
    "import torch.nn as nn\n",
    "from torch.utils.data import TensorDataset, DataLoader\n",
    "from torch.optim import SGD"
   ]
  },
  {
   "cell_type": "code",
   "execution_count": 80,
   "metadata": {},
   "outputs": [],
   "source": [
    "x = torch.arange(-10, 10).float() / 10\n",
    "x.unsqueeze_(1)\n",
    "y = x ** 3\n",
    "\n",
    "#* 训练组件\n",
    "dataset = TensorDataset(x, y)\n",
    "network = nn.Sequential(\n",
    "    nn.Linear(1, 8),\n",
    "    nn.ReLU(),\n",
    "    nn.Linear(8, 1)\n",
    ")\n",
    "criterion = nn.MSELoss()\n",
    "optimizer = SGD(network.parameters(), lr = 0.1)\n",
    "\n",
    "#* 训练超参数\n",
    "epoch_num = 20\n",
    "batch_size = 3\n",
    "learning_rate = 0.01"
   ]
  },
  {
   "cell_type": "code",
   "execution_count": 71,
   "metadata": {},
   "outputs": [],
   "source": [
    "def train(components, hyperparams):\n",
    "    #? 训练组件\n",
    "    dataset = components.dataset\n",
    "    network = components.network\n",
    "    criterion = components.criterion\n",
    "    optimizer = components.optimizer\n",
    "    #? 训练超参数\n",
    "    epoch_num = hyperparams.epoch_num\n",
    "    batch_size = hyperparams.batch_size\n",
    "    learning_rate = hyperparams.learning_rate\n",
    "    #* 训练循环\n",
    "    #? 初始化 DataLoader\n",
    "    dataloader = DataLoader(dataset, batch_size, shuffle=True, drop_last=True)\n",
    "    #? 初始化模型权重：在 nn.Linear 实例化时已经默认经过 kaiming_init 初始化\n",
    "    #? 调整优化器学习率\n",
    "    for param_group in optimizer.param_groups:\n",
    "        param_group['lr'] = learning_rate\n",
    "    #? 将模型转为训练模式\n",
    "    network.train()\n",
    "\n",
    "    #? 训练循环：从 0 开始计数\n",
    "    for epoch in range(epoch_num):\n",
    "        for step, batch in enumerate(dataloader):\n",
    "            #? 获取 batch\n",
    "            data, target = batch \n",
    "            #? 梯度清零\n",
    "            optimizer.zero_grad()\n",
    "            #? 前向传播\n",
    "            out = network(data)\n",
    "            #? 反向传播\n",
    "            loss = criterion(out, target)\n",
    "            loss.backward()\n",
    "            #? 更新模型权重\n",
    "            optimizer.step()\n",
    "    #? 清楚梯度\n",
    "    optimizer.zero_grad()"
   ]
  },
  {
   "cell_type": "code",
   "execution_count": 81,
   "metadata": {},
   "outputs": [],
   "source": [
    "#* 训练循环\n",
    "#? 初始化 DataLoader\n",
    "dataloader = DataLoader(dataset, batch_size, shuffle=True, drop_last=True)\n",
    "#? 初始化模型权重：在 nn.Linear 实例化时已经默认经过 kaiming_init 初始化\n",
    "#? 调整优化器学习率\n",
    "for param_group in optimizer.param_groups:\n",
    "    param_group['lr'] = learning_rate\n",
    "#? 将模型转为训练模式\n",
    "network.train()\n",
    "\n",
    "#? 训练循环：从 0 开始计数\n",
    "for epoch in range(epoch_num):\n",
    "    for step, batch in enumerate(dataloader):\n",
    "        #? 获取 batch\n",
    "        data, target = batch \n",
    "        #? 梯度清零\n",
    "        optimizer.zero_grad()\n",
    "        #? 前向传播\n",
    "        out = network(data)\n",
    "        #? 反向传播\n",
    "        loss = criterion(out, target)\n",
    "        loss.backward()\n",
    "        #? 更新模型权重\n",
    "        optimizer.step()\n",
    "#? 清楚梯度\n",
    "optimizer.zero_grad()"
   ]
  },
  {
   "cell_type": "code",
   "execution_count": 82,
   "metadata": {},
   "outputs": [
    {
     "data": {
      "text/plain": [
       "tensor(0.0474, grad_fn=<MseLossBackward0>)"
      ]
     },
     "execution_count": 82,
     "metadata": {},
     "output_type": "execute_result"
    }
   ],
   "source": [
    "network.eval()\n",
    "nn.MSELoss()(network(x), y)"
   ]
  },
  {
   "cell_type": "code",
   "execution_count": 87,
   "metadata": {},
   "outputs": [
    {
     "data": {
      "text/plain": [
       "{'state': {0: {'momentum_buffer': None},\n",
       "  1: {'momentum_buffer': None},\n",
       "  2: {'momentum_buffer': None},\n",
       "  3: {'momentum_buffer': None}},\n",
       " 'param_groups': [{'lr': 0.01,\n",
       "   'momentum': 0,\n",
       "   'dampening': 0,\n",
       "   'weight_decay': 0,\n",
       "   'nesterov': False,\n",
       "   'maximize': False,\n",
       "   'foreach': None,\n",
       "   'differentiable': False,\n",
       "   'params': [0, 1, 2, 3]}]}"
      ]
     },
     "execution_count": 87,
     "metadata": {},
     "output_type": "execute_result"
    }
   ],
   "source": [
    "optimizer.state_dict()"
   ]
  }
 ],
 "metadata": {
  "kernelspec": {
   "display_name": "PyTorchTrainer",
   "language": "python",
   "name": "python3"
  },
  "language_info": {
   "codemirror_mode": {
    "name": "ipython",
    "version": 3
   },
   "file_extension": ".py",
   "mimetype": "text/x-python",
   "name": "python",
   "nbconvert_exporter": "python",
   "pygments_lexer": "ipython3",
   "version": "3.10.13"
  }
 },
 "nbformat": 4,
 "nbformat_minor": 2
}
